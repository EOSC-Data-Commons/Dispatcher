{
 "cells": [
  {
   "cell_type": "markdown",
   "id": "f368dea9",
   "metadata": {},
   "source": [
    "### Goal: calculate characteristic values of tension curve and create a plot"
   ]
  },
  {
   "cell_type": "code",
   "execution_count": 24,
   "id": "9300eb1e",
   "metadata": {},
   "outputs": [],
   "source": [
    "import os\n",
    "import json\n",
    "from pathlib import Path\n",
    "import matplotlib.pyplot as plt\n",
    "import numpy as np"
   ]
  },
  {
   "cell_type": "markdown",
   "id": "556036b7",
   "metadata": {},
   "source": [
    "The process-function calculates some metadata (returning it) and creates a plot (saving it directly)"
   ]
  },
  {
   "cell_type": "code",
   "execution_count": 25,
   "id": "8158491b",
   "metadata": {},
   "outputs": [],
   "source": [
    "def processFile(filePath:Path, outputFolder:Path):\n",
    "    data = np.loadtxt(filePath, delimiter='\\t')\n",
    "\n",
    "    # calculate meta data\n",
    "    maxStrain = data[:,0].max()\n",
    "    strength  = data[:,1].max()\n",
    "    fit = np.polyfit(data[:6,0], data[:6,1], 1)\n",
    "    youngsModulus = fit[0]\n",
    "    yieldIdx = np.where( np.polyval([youngsModulus, -0.2*youngsModulus], data[:,0]) >\n",
    "                         data[:,1])[0][0]\n",
    "    yieldStress = data[yieldIdx,1]\n",
    "    meta = {'maxStrain [%]':maxStrain, 'strength [MPa]':strength, 'youngsModulus [MPa]':round(youngsModulus,4),\n",
    "                'yieldStress [MPa]':yieldStress}\n",
    "\n",
    "    # plot\n",
    "    plt.axhline(strength, color='k', linestyle=':')\n",
    "    plt.axvline(maxStrain, color='k', linestyle=':')\n",
    "    plt.plot(data[:8,0], np.polyval(fit, data[:8,0]), 'k-', linewidth=2)                     #original fit\n",
    "    plt.plot(data[:8,0], np.polyval([youngsModulus, -0.2*youngsModulus], data[:8,0]), 'r-')  #0.2% offset\n",
    "    plt.plot(data[yieldIdx,0], yieldStress, 'ro')\n",
    "    plt.plot(data[:,0], data[:,1],'-')\n",
    "    with open(filePath, encoding='utf-8') as fIn:\n",
    "        firstLine = fIn.readline()\n",
    "        plt.xlabel(firstLine[1:].split(',')[0])\n",
    "        plt.ylabel(firstLine[1:].split(',')[1])\n",
    "    plt.xlim(left=0)\n",
    "    plt.ylim(bottom=0)\n",
    "    plt.savefig(outputFolder/(filePath.stem+'.png'), dpi=150, bbox_inches='tight')\n",
    "    plt.close()\n",
    "    return meta"
   ]
  },
  {
   "cell_type": "markdown",
   "id": "7a6990e5",
   "metadata": {},
   "source": [
    "Main code part that loops over all input files, calls the process function and saves the accumulated metadata"
   ]
  },
  {
   "cell_type": "code",
   "execution_count": null,
   "id": "284d3657",
   "metadata": {},
   "outputs": [],
   "source": [
    "sourceFolder = Path('.')\n",
    "outputFolder = Path('.')\n",
    "outputFolder.mkdir(exist_ok=True)                       #ensure that output folder exists\n",
    "files = os.listdir(sourceFolder)\n",
    "metaAll = {}\n",
    "for file in files:\n",
    "    if file.endswith('.tsv'):\n",
    "      meta = processFile(sourceFolder/file, outputFolder)\n",
    "      metaAll[file] = meta\n",
    "json.dump(metaAll, open(outputFolder/'metaOutput.json', 'w'), indent=2)"
   ]
  }
 ],
 "metadata": {
  "kernelspec": {
   "display_name": ".venv",
   "language": "python",
   "name": "python3"
  },
  "language_info": {
   "codemirror_mode": {
    "name": "ipython",
    "version": 3
   },
   "file_extension": ".py",
   "mimetype": "text/x-python",
   "name": "python",
   "nbconvert_exporter": "python",
   "pygments_lexer": "ipython3",
   "version": "3.12.3"
  }
 },
 "nbformat": 4,
 "nbformat_minor": 5
}
